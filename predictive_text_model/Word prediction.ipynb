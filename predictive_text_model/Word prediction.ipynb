{
 "cells": [
  {
   "cell_type": "code",
   "execution_count": 60,
   "metadata": {
    "collapsed": true
   },
   "outputs": [],
   "source": [
    "import nltk"
   ]
  },
  {
   "cell_type": "code",
   "execution_count": 59,
   "metadata": {
    "collapsed": false
   },
   "outputs": [
    {
     "name": "stdout",
     "output_type": "stream",
     "text": [
      "Populating the interactive namespace from numpy and matplotlib\n"
     ]
    },
    {
     "name": "stderr",
     "output_type": "stream",
     "text": [
      "WARNING: pylab import has clobbered these variables: ['f']\n",
      "`%matplotlib` prevents importing * from pylab and numpy\n"
     ]
    }
   ],
   "source": [
    "from nltk.corpus import gutenberg\n",
    "from nltk.corpus.reader import bnc\n",
    "import nltk\n",
    "import numpy as np\n",
    "from tqdm import tqdm\n",
    "%pylab inline"
   ]
  },
  {
   "cell_type": "code",
   "execution_count": 61,
   "metadata": {
    "collapsed": false
   },
   "outputs": [],
   "source": [
    "bncreader = bnc.BNCCorpusReader(root='english/2554/download/Texts', fileids=r'[A-K]/\\w*/\\w*\\.xml')\n",
    "len(bncreader.fileids())"
   ]
  },
  {
   "cell_type": "markdown",
   "metadata": {},
   "source": [
    "Read in language corpus and calculate word frequency statistics"
   ]
  },
  {
   "cell_type": "code",
   "execution_count": 111,
   "metadata": {
    "collapsed": false,
    "scrolled": true
   },
   "outputs": [
    {
     "name": "stderr",
     "output_type": "stream",
     "text": [
      "100%|██████████| 1000/1000 [07:47<00:00,  1.62it/s]\n"
     ]
    }
   ],
   "source": [
    "def containsalpha(s):\n",
    "    return any(c.isalpha() for c in s)\n",
    "\n",
    "bigrams = []\n",
    "words = []\n",
    "first_words = []\n",
    "nwords = 0\n",
    "for f in tqdm(bncreader.fileids()[:1000]):\n",
    "    for s in bncreader.sents(f):\n",
    "        s_clean = [s[i].lower() for i in range(len(s)) if containsalpha(s[i])]\n",
    "        try:\n",
    "            for i in np.where([\"'\" in w for w in s_clean])[0]:\n",
    "                if i<len(s_clean):\n",
    "                    s_clean[i-1:i+1] = [s_clean[i-1] + s_clean[i]]\n",
    "        except:\n",
    "            print i, len(s_clean)\n",
    "        if len(s_clean)>0:\n",
    "            nwords += len(s_clean)\n",
    "            words.extend(s_clean)\n",
    "            first_words.append(s_clean[0])\n",
    "            bigrams.extend(nltk.bigrams(s_clean))"
   ]
  },
  {
   "cell_type": "code",
   "execution_count": 112,
   "metadata": {
    "collapsed": false
   },
   "outputs": [
    {
     "data": {
      "text/plain": [
       "(23410476, 24794226, 4049)"
      ]
     },
     "execution_count": 112,
     "metadata": {},
     "output_type": "execute_result"
    }
   ],
   "source": [
    "len(bigrams), nwords, len(bncreader.fileids())"
   ]
  },
  {
   "cell_type": "code",
   "execution_count": 113,
   "metadata": {
    "collapsed": false
   },
   "outputs": [
    {
     "data": {
      "text/plain": [
       "[('the', 162102),\n",
       " ('it', 51398),\n",
       " ('i', 48312),\n",
       " ('in', 42650),\n",
       " ('he', 41169),\n",
       " ('but', 32926),\n",
       " ('this', 30527),\n",
       " ('a', 28790),\n",
       " ('there', 20713),\n",
       " ('they', 20298)]"
      ]
     },
     "execution_count": 113,
     "metadata": {},
     "output_type": "execute_result"
    }
   ],
   "source": [
    "first_word_frequencies = nltk.FreqDist(first_words)\n",
    "first_word_frequencies.most_common(10)"
   ]
  },
  {
   "cell_type": "code",
   "execution_count": 114,
   "metadata": {
    "collapsed": false,
    "scrolled": true
   },
   "outputs": [],
   "source": [
    "word_frequencies = nltk.FreqDist(words)\n",
    "conditional_word_frequencies = nltk.ConditionalFreqDist(bigrams)"
   ]
  },
  {
   "cell_type": "code",
   "execution_count": 115,
   "metadata": {
    "collapsed": true
   },
   "outputs": [],
   "source": [
    "import pickle\n",
    "pickle.dump(word_frequencies,open('word_frequencies.pkl','w'))\n",
    "pickle.dump(first_word_frequencies,open('first_word_frequencies.pkl','w'))\n",
    "pickle.dump(conditional_word_frequencies,open('conditional_word_frequencies_full.pkl','w'))"
   ]
  },
  {
   "cell_type": "code",
   "execution_count": 91,
   "metadata": {
    "collapsed": false
   },
   "outputs": [],
   "source": [
    "import pickle\n",
    "word_frequencies = pickle.load(open('word_frequencies.pkl'))\n",
    "first_word_frequencies = pickle.load(open('first_word_frequencies.pkl'))\n",
    "conditional_word_frequencies = pickle.load(open('conditional_word_frequencies.pkl'))"
   ]
  },
  {
   "cell_type": "markdown",
   "metadata": {},
   "source": [
    "Method used in the web app for predictive text suggestions"
   ]
  },
  {
   "cell_type": "code",
   "execution_count": 4,
   "metadata": {
    "collapsed": false
   },
   "outputs": [],
   "source": [
    "def suggest(prev_word, current_letters, n_suggestions=4):\n",
    "    suggestions = []\n",
    "    \n",
    "    if len(prev_word)==0:\n",
    "        for c in first_word_frequencies.most_common():\n",
    "            if c[0].startswith(current_letters):\n",
    "                suggestions.append(c[0].title())\n",
    "            if len(suggestions)==n_suggestions:\n",
    "                break       \n",
    "    else:\n",
    "        if prev_word and len(prev_word)>0:\n",
    "            common = conditional_word_frequencies[prev_word].most_common()\n",
    "            for c in common:\n",
    "                if c[0].startswith(current_letters):\n",
    "                    suggestions.append(c[0])\n",
    "                if len(suggestions)==n_suggestions:\n",
    "                    break\n",
    "\n",
    "    if len(suggestions)<n_suggestions:    \n",
    "        for c in word_frequencies.most_common():\n",
    "            if c[0].startswith(current_letters):\n",
    "                suggestions.append(c[0])\n",
    "            if len(suggestions)==n_suggestions:\n",
    "                break\n",
    "            \n",
    "    if len(suggestions)<n_suggestions:\n",
    "        suggestions.extend(['']*(n_suggestions-len(suggestions)))\n",
    "\n",
    "    return suggestions"
   ]
  },
  {
   "cell_type": "markdown",
   "metadata": {},
   "source": [
    "Trim down the bigram model, to only pairs of words observed 3 or more times (compresses file to around 10%)"
   ]
  },
  {
   "cell_type": "code",
   "execution_count": 3,
   "metadata": {
    "collapsed": false
   },
   "outputs": [],
   "source": [
    "import pickle\n",
    "conditional_word_frequencies = pickle.load(open('conditional_word_frequencies_full.pkl'))"
   ]
  },
  {
   "cell_type": "code",
   "execution_count": 35,
   "metadata": {
    "collapsed": false
   },
   "outputs": [],
   "source": [
    "freqs = []\n",
    "for k1 in conditional_word_frequencies.keys():\n",
    "    for k2 in conditional_word_frequencies[k1].keys():\n",
    "        if conditional_word_frequencies[k1][k2]<4:\n",
    "            del(conditional_word_frequencies[k1][k2])\n",
    "    if len(conditional_word_frequencies[k1])==0:\n",
    "        del(conditional_word_frequencies[k1])\n",
    "\n",
    "pickle.dump(conditional_word_frequencies,open('conditional_word_frequencies.pkl','w'))"
   ]
  },
  {
   "cell_type": "markdown",
   "metadata": {},
   "source": [
    "Count in normal usage which words tend to be capitalised"
   ]
  },
  {
   "cell_type": "code",
   "execution_count": 85,
   "metadata": {
    "collapsed": false
   },
   "outputs": [
    {
     "name": "stderr",
     "output_type": "stream",
     "text": [
      "100%|██████████| 4049/4049 [43:36<00:00,  1.78it/s]\n"
     ]
    }
   ],
   "source": [
    "def containsalpha(s):\n",
    "    return any(c.isalpha() for c in s)\n",
    "\n",
    "capitalised_count = {}\n",
    "\n",
    "nwords = 0\n",
    "for f in tqdm(bncreader.fileids()):\n",
    "    for s in bncreader.sents(f):\n",
    "        s_clean = [s[i] for i in range(len(s)) if containsalpha(s[i])]\n",
    "        try:\n",
    "            for i in np.where([\"'\" in w for w in s_clean])[0]:\n",
    "                if i<len(s_clean):\n",
    "                    s_clean[i-1:i+1] = [s_clean[i-1] + s_clean[i]]\n",
    "        except:\n",
    "            print i, len(s_clean)\n",
    "        if len(s_clean)>1:\n",
    "            for w in s_clean:\n",
    "                if w.lower() not in capitalised_count:\n",
    "                    capitalised_count[w.lower()] = [0,0]\n",
    "                if w.istitle():\n",
    "                    capitalised_count[w.lower()][1] += 1\n",
    "                else:\n",
    "                    capitalised_count[w.lower()][0] += 1"
   ]
  },
  {
   "cell_type": "markdown",
   "metadata": {},
   "source": [
    "Create a list of words which should be capitalised."
   ]
  },
  {
   "cell_type": "code",
   "execution_count": 105,
   "metadata": {
    "collapsed": false,
    "scrolled": true
   },
   "outputs": [],
   "source": [
    "capitalised_words = {}\n",
    "for w in word_frequencies.keys():\n",
    "    if w in capitalised_count and capitalised_count[w.lower()][1] > capitalised_count[w.lower()][0]:\n",
    "                capitalised_words[w.lower()] = True\n",
    "pickle.dump(capitalised_words,open('capitalised_words.pkl','w'))"
   ]
  },
  {
   "cell_type": "code",
   "execution_count": null,
   "metadata": {
    "collapsed": true
   },
   "outputs": [],
   "source": []
  }
 ],
 "metadata": {
  "kernelspec": {
   "display_name": "Python 2",
   "language": "python",
   "name": "python2"
  },
  "language_info": {
   "codemirror_mode": {
    "name": "ipython",
    "version": 2
   },
   "file_extension": ".py",
   "mimetype": "text/x-python",
   "name": "python",
   "nbconvert_exporter": "python",
   "pygments_lexer": "ipython2",
   "version": "2.7.11"
  }
 },
 "nbformat": 4,
 "nbformat_minor": 0
}
